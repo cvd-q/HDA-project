{
 "cells": [
  {
   "cell_type": "code",
   "execution_count": 1,
   "id": "organized-albania",
   "metadata": {
    "execution": {
     "iopub.execute_input": "2021-04-09T12:44:24.642553Z",
     "iopub.status.busy": "2021-04-09T12:44:24.641705Z",
     "iopub.status.idle": "2021-04-09T12:44:26.012094Z",
     "shell.execute_reply": "2021-04-09T12:44:26.011459Z"
    },
    "papermill": {
     "duration": 1.38915,
     "end_time": "2021-04-09T12:44:26.012225",
     "exception": false,
     "start_time": "2021-04-09T12:44:24.623075",
     "status": "completed"
    },
    "tags": []
   },
   "outputs": [],
   "source": [
    "import pandas as pd\n",
    "import tensorflow as tf\n",
    "import numpy as np\n",
    "from tensorflow.python.keras.engine import data_adapter\n",
    "from tensorflow.keras import backend as K"
   ]
  },
  {
   "cell_type": "code",
   "execution_count": 2,
   "id": "pointed-characterization",
   "metadata": {
    "execution": {
     "iopub.execute_input": "2021-04-09T12:44:26.051568Z",
     "iopub.status.busy": "2021-04-09T12:44:26.051116Z",
     "iopub.status.idle": "2021-04-09T12:44:26.060055Z",
     "shell.execute_reply": "2021-04-09T12:44:26.059695Z"
    },
    "papermill": {
     "duration": 0.036476,
     "end_time": "2021-04-09T12:44:26.060154",
     "exception": false,
     "start_time": "2021-04-09T12:44:26.023678",
     "status": "completed"
    },
    "tags": []
   },
   "outputs": [],
   "source": [
    "train_csv_directory = '../hdadataset2021/Bone Age Datasets/Bone Age Training Set/'\n",
    "train_directory = '../hdadataset2021/Bone Age Datasets/Bone Age Training Set/boneage-training-dataset/'\n",
    "df_train = pd.read_csv(train_csv_directory + 'train.csv')\n",
    "\n",
    "val_csv_directory = '../hdadataset2021/'\n",
    "val_directory = '../hdadataset2021/boneage-validation-dataset/'\n",
    "df_val = pd.read_csv(val_csv_directory + 'Validation Dataset.csv')"
   ]
  },
  {
   "cell_type": "code",
   "execution_count": 3,
   "id": "personal-removal",
   "metadata": {
    "execution": {
     "iopub.execute_input": "2021-04-09T12:44:26.083412Z",
     "iopub.status.busy": "2021-04-09T12:44:26.082927Z",
     "iopub.status.idle": "2021-04-09T12:44:26.925014Z",
     "shell.execute_reply": "2021-04-09T12:44:26.924607Z"
    },
    "papermill": {
     "duration": 0.856039,
     "end_time": "2021-04-09T12:44:26.925135",
     "exception": false,
     "start_time": "2021-04-09T12:44:26.069096",
     "status": "completed"
    },
    "tags": []
   },
   "outputs": [],
   "source": [
    "ids = df_train['id'].values.astype(str)\n",
    "labels = df_train['male'].values.astype(float)\n",
    "ages = df_train['boneage'].values.astype(float)\n",
    "train_ds = tf.data.Dataset.from_tensor_slices((ids, labels, ages))\n",
    "\n",
    "\n",
    "ids = df_val['Image ID'].values.astype(str)\n",
    "labels = df_val['male'].values.astype(float)\n",
    "ages = df_val['Bone Age (months)'].values.astype(float)\n",
    "val_ds = tf.data.Dataset.from_tensor_slices((ids, labels, ages))\n",
    "\n",
    "IMG_SIZE = (300, 300, 1)\n",
    "BATCH_SIZE = 16"
   ]
  },
  {
   "cell_type": "code",
   "execution_count": 4,
   "id": "surface-atmosphere",
   "metadata": {
    "execution": {
     "iopub.execute_input": "2021-04-09T12:44:26.987081Z",
     "iopub.status.busy": "2021-04-09T12:44:26.986346Z",
     "iopub.status.idle": "2021-04-09T12:44:27.136684Z",
     "shell.execute_reply": "2021-04-09T12:44:27.136160Z"
    },
    "papermill": {
     "duration": 0.200795,
     "end_time": "2021-04-09T12:44:27.136796",
     "exception": false,
     "start_time": "2021-04-09T12:44:26.936001",
     "status": "completed"
    },
    "tags": []
   },
   "outputs": [],
   "source": [
    "def read_train_image(image_file, label, age):\n",
    "    image = tf.io.read_file(train_directory + image_file+ '.png')\n",
    "    image = tf.io.decode_png(image, channels=1)\n",
    "    return image, [label], [age] #lists are necessary for training the model (otherwise dims are unknown)\n",
    "\n",
    "def read_val_image(image_file, label, age):\n",
    "    image = tf.io.read_file(val_directory + image_file + '.png')\n",
    "    image = tf.io.decode_png(image, channels=1)\n",
    "    return image, [label], [age] #lists are necessary for training the model (otherwise dims are unknown)\n",
    "\n",
    "resize_layer = tf.keras.layers.experimental.preprocessing.Resizing(height=IMG_SIZE[0], width=IMG_SIZE[1])\n",
    "normalization_layer = tf.keras.layers.experimental.preprocessing.Rescaling(1/255.)\n",
    "zoom_layer = tf.keras.layers.experimental.preprocessing.RandomZoom(height_factor=(0.2,-0.3),\n",
    "                                                                   width_factor=(0.2,-0.3),\n",
    "                                                                  fill_mode='constant')\n",
    "flip_layer = tf.keras.layers.experimental.preprocessing.RandomFlip(mode='horizontal')\n",
    "\n",
    "def brightness_function(image):\n",
    "    image = tf.image.random_brightness(image, max_delta=0.3)\n",
    "    image = tf.math.maximum(image, 0.)\n",
    "    image = tf.math.minimum(image, 1.)\n",
    "    return image\n",
    "\n",
    "def augment(image, label, age):\n",
    "    # data augmentation here\n",
    "    image = zoom_layer(image)\n",
    "    image = flip_layer(image)\n",
    "    #image = brightness_function(image)\n",
    "    return image, label, age"
   ]
  },
  {
   "cell_type": "code",
   "execution_count": 5,
   "id": "interesting-constraint",
   "metadata": {
    "execution": {
     "iopub.execute_input": "2021-04-09T12:44:27.161969Z",
     "iopub.status.busy": "2021-04-09T12:44:27.161239Z",
     "iopub.status.idle": "2021-04-09T12:44:27.401726Z",
     "shell.execute_reply": "2021-04-09T12:44:27.402169Z"
    },
    "papermill": {
     "duration": 0.256213,
     "end_time": "2021-04-09T12:44:27.402322",
     "exception": false,
     "start_time": "2021-04-09T12:44:27.146109",
     "status": "completed"
    },
    "tags": []
   },
   "outputs": [],
   "source": [
    "AUTOTUNE = tf.data.experimental.AUTOTUNE #tf.data.AUTOTUNE\n",
    "train_ds = train_ds.map(read_train_image).map(lambda image,label,age: (normalization_layer((resize_layer(image))), label, age)).cache('./train_cache_300')\n",
    "train_ds = train_ds.shuffle(buffer_size=1000).batch(BATCH_SIZE).map(augment,num_parallel_calls=AUTOTUNE)\n",
    "train_ds = train_ds.prefetch(buffer_size=AUTOTUNE)\n",
    "\n",
    "val_ds = val_ds.map(read_val_image).map(lambda image,label,age: (normalization_layer(resize_layer(image)), label, age)).cache('./val_cache_300')\n",
    "val_ds = val_ds.prefetch(buffer_size=AUTOTUNE).batch(BATCH_SIZE)"
   ]
  },
  {
   "cell_type": "code",
   "execution_count": 6,
   "id": "conscious-sally",
   "metadata": {
    "execution": {
     "iopub.execute_input": "2021-04-09T12:44:27.423985Z",
     "iopub.status.busy": "2021-04-09T12:44:27.423547Z",
     "iopub.status.idle": "2021-04-09T12:44:27.425858Z",
     "shell.execute_reply": "2021-04-09T12:44:27.425502Z"
    },
    "papermill": {
     "duration": 0.014103,
     "end_time": "2021-04-09T12:44:27.425955",
     "exception": false,
     "start_time": "2021-04-09T12:44:27.411852",
     "status": "completed"
    },
    "tags": []
   },
   "outputs": [],
   "source": [
    "#image = list(val_ds.take(1).as_numpy_iterator())[0][0][1]"
   ]
  },
  {
   "cell_type": "code",
   "execution_count": 7,
   "id": "infectious-diary",
   "metadata": {
    "execution": {
     "iopub.execute_input": "2021-04-09T12:44:27.448078Z",
     "iopub.status.busy": "2021-04-09T12:44:27.447650Z",
     "iopub.status.idle": "2021-04-09T12:44:27.450049Z",
     "shell.execute_reply": "2021-04-09T12:44:27.449562Z"
    },
    "papermill": {
     "duration": 0.015186,
     "end_time": "2021-04-09T12:44:27.450143",
     "exception": false,
     "start_time": "2021-04-09T12:44:27.434957",
     "status": "completed"
    },
    "tags": []
   },
   "outputs": [],
   "source": [
    "%matplotlib inline\n",
    "#import matplotlib.pyplot as plt\n",
    "#_ = plt.imshow(image)"
   ]
  },
  {
   "cell_type": "code",
   "execution_count": null,
   "id": "arabic-dependence",
   "metadata": {
    "papermill": {
     "duration": 0.008747,
     "end_time": "2021-04-09T12:44:27.467820",
     "exception": false,
     "start_time": "2021-04-09T12:44:27.459073",
     "status": "completed"
    },
    "tags": []
   },
   "outputs": [],
   "source": []
  },
  {
   "cell_type": "markdown",
   "id": "usual-rental",
   "metadata": {
    "papermill": {
     "duration": 0.008631,
     "end_time": "2021-04-09T12:44:27.487022",
     "exception": false,
     "start_time": "2021-04-09T12:44:27.478391",
     "status": "completed"
    },
    "tags": []
   },
   "source": [
    "# Boneage Model"
   ]
  },
  {
   "cell_type": "code",
   "execution_count": 8,
   "id": "built-invalid",
   "metadata": {
    "execution": {
     "iopub.execute_input": "2021-04-09T12:44:27.514105Z",
     "iopub.status.busy": "2021-04-09T12:44:27.513629Z",
     "iopub.status.idle": "2021-04-09T12:44:27.516966Z",
     "shell.execute_reply": "2021-04-09T12:44:27.516601Z"
    },
    "papermill": {
     "duration": 0.021084,
     "end_time": "2021-04-09T12:44:27.517053",
     "exception": false,
     "start_time": "2021-04-09T12:44:27.495969",
     "status": "completed"
    },
    "tags": []
   },
   "outputs": [],
   "source": [
    "from InceptionV3_2 import InceptionV3\n",
    "class BoneAgeInception(tf.keras.Model):  \n",
    "    def __init__(self, gender=True, beta=1):\n",
    "        super(BoneAgeInception, self).__init__()\n",
    "        \n",
    "        model = InceptionV3(\n",
    "                                include_top=False,\n",
    "                                weights=None,\n",
    "                                input_shape=IMG_SIZE,\n",
    "                                beta=beta)\n",
    "        \n",
    "        \n",
    "        \n",
    "        #dense_model = DenseNet()\n",
    "        \n",
    "        #last_conv=relu_final_blk\n",
    "        #for layer in dense_model.model.layers:\n",
    "            #global_average\n",
    "            #if layer.name.startswith('global_max'):\n",
    "                #model_global_max = layer.output\n",
    "                \n",
    "        \n",
    "        if gender:\n",
    "            initializer = tf.keras.initializers.GlorotNormal()\n",
    "            gender_input = tf.keras.Input(shape=(1))\n",
    "            gender_output = tf.keras.layers.Dense(100, activation='relu', kernel_initializer=initializer)(gender_input)\n",
    "            \n",
    "            model_global_avg = tf.keras.layers.GlobalAveragePooling2D()(model.output)\n",
    "            \n",
    "            concat_output = tf.keras.layers.Concatenate(name='gender_and_feat._concat')([model_global_avg, gender_output])\n",
    "            \n",
    "            #dense_output = tf.keras.layers.Dense(2000,activation='relu', kernel_regularizer='l2', kernel_initializer=initializer)(concat_output)\n",
    "            \n",
    "            overall_output = tf.keras.layers.Dense(1,activation='relu', kernel_regularizer='l2', kernel_initializer=initializer)(concat_output)\n",
    "            \n",
    "            self.model = tf.keras.Model(inputs=[model.input, gender_input], outputs = overall_output)\n",
    "        else:\n",
    "            pass #COMPLETE!\n",
    "                \n",
    "        \n",
    "        \n",
    "    def call(self, x, training=False):\n",
    "        imgs, labels = x\n",
    "        \n",
    "        y = self.model([imgs, labels],training)\n",
    "       \n",
    "        return y\n",
    "\n",
    "    def train_step(self, data):\n",
    "        \n",
    "        data = data_adapter.expand_1d(data)\n",
    "        imgs, labels, ages = data\n",
    "        \n",
    "        with tf.GradientTape() as tape:\n",
    "            y_pred = self((imgs, labels), training=True)  # Forward pass\n",
    "\n",
    "            loss = self.compiled_loss(ages, y_pred)\n",
    "\n",
    "        trainable_vars = self.trainable_variables\n",
    "        gradients = tape.gradient(loss, trainable_vars)\n",
    "        \n",
    "        # Update weights\n",
    "        self.optimizer.apply_gradients(zip(gradients, trainable_vars))\n",
    "\n",
    "        self.compiled_metrics.update_state(ages, y_pred)\n",
    "        _dict = {m.name: m.result() for m in self.metrics}\n",
    "        \n",
    "        return _dict\n",
    "\n",
    "    def test_step(self, data):\n",
    "        \n",
    "        data = data_adapter.expand_1d(data)\n",
    "        imgs, labels, ages = data\n",
    "\n",
    "        y_pred = self((imgs, labels), training=False)  # Forward pass\n",
    "\n",
    "        loss = self.compiled_loss(ages, y_pred)\n",
    "\n",
    "        self.compiled_metrics.update_state(ages, y_pred)\n",
    "        _dict = {m.name: m.result() for m in self.metrics}\n",
    "        \n",
    "        return _dict\n",
    "    \n",
    "    def summary(self):\n",
    "        print(self.model.summary())"
   ]
  },
  {
   "cell_type": "code",
   "execution_count": 9,
   "id": "normal-absolute",
   "metadata": {
    "execution": {
     "iopub.execute_input": "2021-04-09T12:44:27.545952Z",
     "iopub.status.busy": "2021-04-09T12:44:27.545325Z",
     "iopub.status.idle": "2021-04-09T12:44:27.547361Z",
     "shell.execute_reply": "2021-04-09T12:44:27.547708Z"
    },
    "papermill": {
     "duration": 0.022002,
     "end_time": "2021-04-09T12:44:27.547867",
     "exception": false,
     "start_time": "2021-04-09T12:44:27.525865",
     "status": "completed"
    },
    "tags": []
   },
   "outputs": [],
   "source": [
    "class BoneAgeNet(tf.keras.Model):  \n",
    "    def __init__(self, gender=True):\n",
    "        super(BoneAgeNet, self).__init__()\n",
    "        \n",
    "        model = BoneAgeInception(beta=1.4)\n",
    "        \n",
    "        model.compile(optimizer='adam',loss='mse')\n",
    "        _ = model.fit(val_ds.take(1), verbose=2)\n",
    "        model.load_weights('./ckpts/inception_modified/best_val_inception_80ep.h5')\n",
    "        model.trainable=False\n",
    "        \n",
    "        for layer in model.model.layers:\n",
    "            if layer.name.startswith('global_average'):\n",
    "                global_avg_output = layer.output\n",
    "                break\n",
    "                \n",
    "        \n",
    "        if gender:\n",
    "            initializer = tf.keras.initializers.GlorotNormal()\n",
    "            gender_input = model.model.inputs[-1]\n",
    "            gender_output = tf.keras.layers.Dense(100, activation='relu', kernel_initializer=initializer)(gender_input)\n",
    "            \n",
    "            global_avg_output = tf.keras.layers.Dropout(0.3)(global_avg_output)\n",
    "            \n",
    "            concat_output = tf.keras.layers.Concatenate(name='gender_and_feat._concat')([global_avg_output, gender_output])\n",
    "            \n",
    "            dense_output = tf.keras.layers.Dense(3000,activation='relu', kernel_regularizer='l2', kernel_initializer=initializer)(concat_output)\n",
    "            \n",
    "            dense_output = tf.keras.layers.Dense(1000,activation='relu', kernel_regularizer='l2', kernel_initializer=initializer)(dense_output)\n",
    "            \n",
    "            overall_output = tf.keras.layers.Dense(1,activation='relu', kernel_regularizer='l2', kernel_initializer=initializer)(dense_output)\n",
    "            \n",
    "            self.model = tf.keras.Model(inputs=model.model.inputs, outputs = overall_output)\n",
    "        else:\n",
    "            pass #COMPLETE!\n",
    "                \n",
    "        \n",
    "        \n",
    "    def call(self, x, training=False):\n",
    "        imgs, labels = x\n",
    "        \n",
    "        y = self.model([imgs, labels],training)\n",
    "       \n",
    "        return y\n",
    "\n",
    "    def train_step(self, data):\n",
    "        \n",
    "        data = data_adapter.expand_1d(data)\n",
    "        imgs, labels, ages = data\n",
    "        \n",
    "        with tf.GradientTape() as tape:\n",
    "            y_pred = self((imgs, labels), training=True)  # Forward pass\n",
    "\n",
    "            loss = self.compiled_loss(ages, y_pred)\n",
    "\n",
    "        trainable_vars = self.trainable_variables\n",
    "        gradients = tape.gradient(loss, trainable_vars)\n",
    "        \n",
    "        # Update weights\n",
    "        self.optimizer.apply_gradients(zip(gradients, trainable_vars))\n",
    "\n",
    "        self.compiled_metrics.update_state(ages, y_pred)\n",
    "        _dict = {m.name: m.result() for m in self.metrics}\n",
    "        \n",
    "        return _dict\n",
    "\n",
    "    def test_step(self, data):\n",
    "        \n",
    "        data = data_adapter.expand_1d(data)\n",
    "        imgs, labels, ages = data\n",
    "\n",
    "        y_pred = self((imgs, labels), training=False)  # Forward pass\n",
    "\n",
    "        loss = self.compiled_loss(ages, y_pred)\n",
    "\n",
    "        self.compiled_metrics.update_state(ages, y_pred)\n",
    "        _dict = {m.name: m.result() for m in self.metrics}\n",
    "        \n",
    "        return _dict\n",
    "    \n",
    "    def summary(self):\n",
    "        print(self.model.summary())"
   ]
  },
  {
   "cell_type": "code",
   "execution_count": 10,
   "id": "effective-friday",
   "metadata": {
    "execution": {
     "iopub.execute_input": "2021-04-09T12:44:27.572462Z",
     "iopub.status.busy": "2021-04-09T12:44:27.571740Z",
     "iopub.status.idle": "2021-04-09T15:09:50.735813Z",
     "shell.execute_reply": "2021-04-09T15:09:50.735438Z"
    },
    "papermill": {
     "duration": 8723.178939,
     "end_time": "2021-04-09T15:09:50.735918",
     "exception": false,
     "start_time": "2021-04-09T12:44:27.556979",
     "status": "completed"
    },
    "tags": []
   },
   "outputs": [
    {
     "name": "stdout",
     "output_type": "stream",
     "text": [
      "WARNING:tensorflow:Layer bone_age_inception is casting an input tensor from dtype float64 to the layer's dtype of float32, which is new behavior in TensorFlow 2.  The layer has dtype float32 because its dtype defaults to floatx.\n",
      "\n",
      "If you intended to run this layer in float32, you can safely ignore this warning. If in doubt, this warning is likely only an issue if you are porting a TensorFlow 1.X model to TensorFlow 2.\n",
      "\n",
      "To change all layers to have dtype float64 by default, call `tf.keras.backend.set_floatx('float64')`. To change just this layer, pass dtype='float64' to the layer constructor. If you are the author of this layer, you can disable autocasting by passing autocast=False to the base Layer constructor.\n",
      "\n"
     ]
    },
    {
     "name": "stdout",
     "output_type": "stream",
     "text": [
      "1/1 - 0s - loss: 8240.1875\n"
     ]
    },
    {
     "name": "stdout",
     "output_type": "stream",
     "text": [
      "\n",
      "Epoch 00001: LearningRateScheduler reducing learning rate to 0.009999999776482582.\n",
      "Epoch 1/100\n",
      "WARNING:tensorflow:Layer bone_age_net is casting an input tensor from dtype float64 to the layer's dtype of float32, which is new behavior in TensorFlow 2.  The layer has dtype float32 because its dtype defaults to floatx.\n",
      "\n",
      "If you intended to run this layer in float32, you can safely ignore this warning. If in doubt, this warning is likely only an issue if you are porting a TensorFlow 1.X model to TensorFlow 2.\n",
      "\n",
      "To change all layers to have dtype float64 by default, call `tf.keras.backend.set_floatx('float64')`. To change just this layer, pass dtype='float64' to the layer constructor. If you are the author of this layer, you can disable autocasting by passing autocast=False to the base Layer constructor.\n",
      "\n"
     ]
    },
    {
     "name": "stdout",
     "output_type": "stream",
     "text": [
      "\n",
      "Epoch 00001: val_mae improved from inf to 9.18304, saving model to ./ckpts/boneagenet/best_val_80ep.h5\n"
     ]
    },
    {
     "name": "stdout",
     "output_type": "stream",
     "text": [
      "789/789 - 92s - loss: 315.5845 - mae: 11.3685 - val_loss: 137.8250 - val_mae: 9.1830\n"
     ]
    },
    {
     "name": "stdout",
     "output_type": "stream",
     "text": [
      "\n",
      "Epoch 00002: LearningRateScheduler reducing learning rate to 0.009999999776482582.\n",
      "Epoch 2/100\n"
     ]
    },
    {
     "name": "stdout",
     "output_type": "stream",
     "text": [
      "\n",
      "Epoch 00002: val_mae improved from 9.18304 to 7.81092, saving model to ./ckpts/boneagenet/best_val_80ep.h5\n"
     ]
    },
    {
     "name": "stdout",
     "output_type": "stream",
     "text": [
      "789/789 - 89s - loss: 148.0519 - mae: 9.5637 - val_loss: 108.8133 - val_mae: 7.8109\n"
     ]
    },
    {
     "name": "stdout",
     "output_type": "stream",
     "text": [
      "\n",
      "Epoch 00003: LearningRateScheduler reducing learning rate to 0.009999999776482582.\n",
      "Epoch 3/100\n"
     ]
    },
    {
     "name": "stdout",
     "output_type": "stream",
     "text": [
      "\n",
      "Epoch 00003: val_mae did not improve from 7.81092\n",
      "789/789 - 87s - loss: 139.9441 - mae: 9.2732 - val_loss: 108.3818 - val_mae: 7.8360\n"
     ]
    },
    {
     "name": "stdout",
     "output_type": "stream",
     "text": [
      "\n",
      "Epoch 00004: LearningRateScheduler reducing learning rate to 0.009999999776482582.\n",
      "Epoch 4/100\n"
     ]
    },
    {
     "name": "stdout",
     "output_type": "stream",
     "text": [
      "\n",
      "Epoch 00004: val_mae did not improve from 7.81092\n",
      "789/789 - 87s - loss: 129.9586 - mae: 8.9388 - val_loss: 121.0693 - val_mae: 8.3362\n"
     ]
    },
    {
     "name": "stdout",
     "output_type": "stream",
     "text": [
      "\n",
      "Epoch 00005: LearningRateScheduler reducing learning rate to 0.009999999776482582.\n",
      "Epoch 5/100\n"
     ]
    },
    {
     "name": "stdout",
     "output_type": "stream",
     "text": [
      "\n",
      "Epoch 00005: val_mae did not improve from 7.81092\n",
      "789/789 - 86s - loss: 123.4208 - mae: 8.6932 - val_loss: 119.3060 - val_mae: 8.3545\n"
     ]
    },
    {
     "name": "stdout",
     "output_type": "stream",
     "text": [
      "\n",
      "Epoch 00006: LearningRateScheduler reducing learning rate to 0.009999999776482582.\n",
      "Epoch 6/100\n"
     ]
    },
    {
     "name": "stdout",
     "output_type": "stream",
     "text": [
      "\n",
      "Epoch 00006: val_mae did not improve from 7.81092\n",
      "789/789 - 86s - loss: 123.0813 - mae: 8.7093 - val_loss: 131.7619 - val_mae: 8.9243\n"
     ]
    },
    {
     "name": "stdout",
     "output_type": "stream",
     "text": [
      "\n",
      "Epoch 00007: LearningRateScheduler reducing learning rate to 0.009999999776482582.\n",
      "Epoch 7/100\n"
     ]
    },
    {
     "name": "stdout",
     "output_type": "stream",
     "text": [
      "\n",
      "Epoch 00007: val_mae did not improve from 7.81092\n",
      "789/789 - 86s - loss: 124.5006 - mae: 8.6766 - val_loss: 109.5992 - val_mae: 7.8681\n"
     ]
    },
    {
     "name": "stdout",
     "output_type": "stream",
     "text": [
      "\n",
      "Epoch 00008: LearningRateScheduler reducing learning rate to 0.009999999776482582.\n",
      "Epoch 8/100\n"
     ]
    },
    {
     "name": "stdout",
     "output_type": "stream",
     "text": [
      "\n",
      "Epoch 00008: val_mae did not improve from 7.81092\n",
      "789/789 - 87s - loss: 123.1787 - mae: 8.6438 - val_loss: 118.4071 - val_mae: 8.2721\n"
     ]
    },
    {
     "name": "stdout",
     "output_type": "stream",
     "text": [
      "\n",
      "Epoch 00009: LearningRateScheduler reducing learning rate to 0.009999999776482582.\n",
      "Epoch 9/100\n"
     ]
    },
    {
     "name": "stdout",
     "output_type": "stream",
     "text": [
      "\n",
      "Epoch 00009: val_mae did not improve from 7.81092\n",
      "789/789 - 86s - loss: 116.1150 - mae: 8.4202 - val_loss: 111.6607 - val_mae: 7.9240\n"
     ]
    },
    {
     "name": "stdout",
     "output_type": "stream",
     "text": [
      "\n",
      "Epoch 00010: LearningRateScheduler reducing learning rate to 0.009999999776482582.\n",
      "Epoch 10/100\n"
     ]
    },
    {
     "name": "stdout",
     "output_type": "stream",
     "text": [
      "\n",
      "Epoch 00010: val_mae did not improve from 7.81092\n",
      "789/789 - 86s - loss: 116.5437 - mae: 8.4191 - val_loss: 164.9333 - val_mae: 10.1320\n"
     ]
    },
    {
     "name": "stdout",
     "output_type": "stream",
     "text": [
      "\n",
      "Epoch 00011: LearningRateScheduler reducing learning rate to 0.009999999776482582.\n",
      "Epoch 11/100\n"
     ]
    },
    {
     "name": "stdout",
     "output_type": "stream",
     "text": [
      "\n",
      "Epoch 00011: val_mae did not improve from 7.81092\n",
      "789/789 - 86s - loss: 116.6926 - mae: 8.4109 - val_loss: 171.6272 - val_mae: 10.4063\n"
     ]
    },
    {
     "name": "stdout",
     "output_type": "stream",
     "text": [
      "\n",
      "Epoch 00012: LearningRateScheduler reducing learning rate to 0.009999999776482582.\n",
      "Epoch 12/100\n"
     ]
    },
    {
     "name": "stdout",
     "output_type": "stream",
     "text": [
      "\n",
      "Epoch 00012: val_mae did not improve from 7.81092\n",
      "789/789 - 86s - loss: 124.5602 - mae: 8.6302 - val_loss: 110.5236 - val_mae: 7.8908\n"
     ]
    },
    {
     "name": "stdout",
     "output_type": "stream",
     "text": [
      "\n",
      "Epoch 00013: LearningRateScheduler reducing learning rate to 0.009999999776482582.\n",
      "Epoch 13/100\n"
     ]
    },
    {
     "name": "stdout",
     "output_type": "stream",
     "text": [
      "\n",
      "Epoch 00013: val_mae did not improve from 7.81092\n",
      "789/789 - 86s - loss: 114.4556 - mae: 8.3011 - val_loss: 119.5866 - val_mae: 8.2442\n"
     ]
    },
    {
     "name": "stdout",
     "output_type": "stream",
     "text": [
      "\n",
      "Epoch 00014: LearningRateScheduler reducing learning rate to 0.009999999776482582.\n",
      "Epoch 14/100\n"
     ]
    },
    {
     "name": "stdout",
     "output_type": "stream",
     "text": [
      "\n",
      "Epoch 00014: val_mae did not improve from 7.81092\n",
      "789/789 - 87s - loss: 115.5937 - mae: 8.3231 - val_loss: 118.3803 - val_mae: 8.3337\n"
     ]
    },
    {
     "name": "stdout",
     "output_type": "stream",
     "text": [
      "\n",
      "Epoch 00015: LearningRateScheduler reducing learning rate to 0.009999999776482582.\n",
      "Epoch 15/100\n"
     ]
    },
    {
     "name": "stdout",
     "output_type": "stream",
     "text": [
      "\n",
      "Epoch 00015: val_mae did not improve from 7.81092\n",
      "789/789 - 86s - loss: 117.1218 - mae: 8.4407 - val_loss: 112.2382 - val_mae: 7.9504\n"
     ]
    },
    {
     "name": "stdout",
     "output_type": "stream",
     "text": [
      "\n",
      "Epoch 00016: LearningRateScheduler reducing learning rate to 0.009999999776482582.\n",
      "Epoch 16/100\n"
     ]
    },
    {
     "name": "stdout",
     "output_type": "stream",
     "text": [
      "\n",
      "Epoch 00016: val_mae did not improve from 7.81092\n",
      "789/789 - 86s - loss: 112.7424 - mae: 8.2892 - val_loss: 114.2358 - val_mae: 8.0087\n"
     ]
    },
    {
     "name": "stdout",
     "output_type": "stream",
     "text": [
      "\n",
      "Epoch 00017: LearningRateScheduler reducing learning rate to 0.009999999776482582.\n",
      "Epoch 17/100\n"
     ]
    },
    {
     "name": "stdout",
     "output_type": "stream",
     "text": [
      "\n",
      "Epoch 00017: val_mae did not improve from 7.81092\n",
      "789/789 - 86s - loss: 113.5501 - mae: 8.2708 - val_loss: 131.5501 - val_mae: 8.7424\n"
     ]
    },
    {
     "name": "stdout",
     "output_type": "stream",
     "text": [
      "\n",
      "Epoch 00018: LearningRateScheduler reducing learning rate to 0.009999999776482582.\n",
      "Epoch 18/100\n"
     ]
    },
    {
     "name": "stdout",
     "output_type": "stream",
     "text": [
      "\n",
      "Epoch 00018: val_mae did not improve from 7.81092\n",
      "789/789 - 86s - loss: 113.7672 - mae: 8.3048 - val_loss: 123.2954 - val_mae: 8.3993\n"
     ]
    },
    {
     "name": "stdout",
     "output_type": "stream",
     "text": [
      "\n",
      "Epoch 00019: LearningRateScheduler reducing learning rate to 0.009999999776482582.\n",
      "Epoch 19/100\n"
     ]
    },
    {
     "name": "stdout",
     "output_type": "stream",
     "text": [
      "\n",
      "Epoch 00019: val_mae did not improve from 7.81092\n",
      "789/789 - 87s - loss: 114.2341 - mae: 8.3191 - val_loss: 114.4054 - val_mae: 8.0391\n"
     ]
    },
    {
     "name": "stdout",
     "output_type": "stream",
     "text": [
      "\n",
      "Epoch 00020: LearningRateScheduler reducing learning rate to 0.009999999776482582.\n",
      "Epoch 20/100\n"
     ]
    },
    {
     "name": "stdout",
     "output_type": "stream",
     "text": [
      "\n",
      "Epoch 00020: val_mae did not improve from 7.81092\n",
      "789/789 - 86s - loss: 111.1815 - mae: 8.2218 - val_loss: 114.6989 - val_mae: 8.1122\n"
     ]
    },
    {
     "name": "stdout",
     "output_type": "stream",
     "text": [
      "\n",
      "Epoch 00021: LearningRateScheduler reducing learning rate to 0.001.\n",
      "Epoch 21/100\n"
     ]
    },
    {
     "name": "stdout",
     "output_type": "stream",
     "text": [
      "\n",
      "Epoch 00021: val_mae did not improve from 7.81092\n",
      "789/789 - 86s - loss: 105.0210 - mae: 7.9199 - val_loss: 112.9860 - val_mae: 7.9770\n"
     ]
    },
    {
     "name": "stdout",
     "output_type": "stream",
     "text": [
      "\n",
      "Epoch 00022: LearningRateScheduler reducing learning rate to 0.001.\n",
      "Epoch 22/100\n"
     ]
    },
    {
     "name": "stdout",
     "output_type": "stream",
     "text": [
      "\n",
      "Epoch 00022: val_mae did not improve from 7.81092\n",
      "789/789 - 86s - loss: 103.1304 - mae: 7.8383 - val_loss: 110.7468 - val_mae: 7.8934\n"
     ]
    },
    {
     "name": "stdout",
     "output_type": "stream",
     "text": [
      "\n",
      "Epoch 00023: LearningRateScheduler reducing learning rate to 0.001.\n",
      "Epoch 23/100\n"
     ]
    },
    {
     "name": "stdout",
     "output_type": "stream",
     "text": [
      "\n",
      "Epoch 00023: val_mae did not improve from 7.81092\n",
      "789/789 - 86s - loss: 103.2321 - mae: 7.8445 - val_loss: 109.9301 - val_mae: 7.8929\n"
     ]
    },
    {
     "name": "stdout",
     "output_type": "stream",
     "text": [
      "\n",
      "Epoch 00024: LearningRateScheduler reducing learning rate to 0.001.\n",
      "Epoch 24/100\n"
     ]
    },
    {
     "name": "stdout",
     "output_type": "stream",
     "text": [
      "\n",
      "Epoch 00024: val_mae did not improve from 7.81092\n",
      "789/789 - 86s - loss: 103.9109 - mae: 7.8694 - val_loss: 119.5649 - val_mae: 8.2384\n"
     ]
    },
    {
     "name": "stdout",
     "output_type": "stream",
     "text": [
      "\n",
      "Epoch 00025: LearningRateScheduler reducing learning rate to 0.001.\n",
      "Epoch 25/100\n"
     ]
    },
    {
     "name": "stdout",
     "output_type": "stream",
     "text": [
      "\n",
      "Epoch 00025: val_mae did not improve from 7.81092\n",
      "789/789 - 87s - loss: 102.1318 - mae: 7.8191 - val_loss: 112.1176 - val_mae: 7.9460\n"
     ]
    },
    {
     "name": "stdout",
     "output_type": "stream",
     "text": [
      "\n",
      "Epoch 00026: LearningRateScheduler reducing learning rate to 0.001.\n",
      "Epoch 26/100\n"
     ]
    },
    {
     "name": "stdout",
     "output_type": "stream",
     "text": [
      "\n",
      "Epoch 00026: val_mae did not improve from 7.81092\n",
      "789/789 - 86s - loss: 102.3673 - mae: 7.8141 - val_loss: 112.9361 - val_mae: 7.9638\n"
     ]
    },
    {
     "name": "stdout",
     "output_type": "stream",
     "text": [
      "\n",
      "Epoch 00027: LearningRateScheduler reducing learning rate to 0.001.\n",
      "Epoch 27/100\n"
     ]
    },
    {
     "name": "stdout",
     "output_type": "stream",
     "text": [
      "\n",
      "Epoch 00027: val_mae did not improve from 7.81092\n",
      "789/789 - 86s - loss: 102.8153 - mae: 7.8553 - val_loss: 113.0325 - val_mae: 7.9540\n"
     ]
    },
    {
     "name": "stdout",
     "output_type": "stream",
     "text": [
      "\n",
      "Epoch 00028: LearningRateScheduler reducing learning rate to 0.001.\n",
      "Epoch 28/100\n"
     ]
    },
    {
     "name": "stdout",
     "output_type": "stream",
     "text": [
      "\n",
      "Epoch 00028: val_mae did not improve from 7.81092\n",
      "789/789 - 86s - loss: 103.1330 - mae: 7.8259 - val_loss: 115.1356 - val_mae: 8.0418\n"
     ]
    },
    {
     "name": "stdout",
     "output_type": "stream",
     "text": [
      "\n",
      "Epoch 00029: LearningRateScheduler reducing learning rate to 0.001.\n",
      "Epoch 29/100\n"
     ]
    },
    {
     "name": "stdout",
     "output_type": "stream",
     "text": [
      "\n",
      "Epoch 00029: val_mae did not improve from 7.81092\n",
      "789/789 - 86s - loss: 102.7123 - mae: 7.8315 - val_loss: 113.8895 - val_mae: 7.9550\n"
     ]
    },
    {
     "name": "stdout",
     "output_type": "stream",
     "text": [
      "\n",
      "Epoch 00030: LearningRateScheduler reducing learning rate to 0.001.\n",
      "Epoch 30/100\n"
     ]
    },
    {
     "name": "stdout",
     "output_type": "stream",
     "text": [
      "\n",
      "Epoch 00030: val_mae did not improve from 7.81092\n",
      "789/789 - 86s - loss: 102.2360 - mae: 7.7592 - val_loss: 112.4273 - val_mae: 7.9190\n"
     ]
    },
    {
     "name": "stdout",
     "output_type": "stream",
     "text": [
      "\n",
      "Epoch 00031: LearningRateScheduler reducing learning rate to 0.001.\n",
      "Epoch 31/100\n"
     ]
    },
    {
     "name": "stdout",
     "output_type": "stream",
     "text": [
      "\n",
      "Epoch 00031: val_mae did not improve from 7.81092\n",
      "789/789 - 86s - loss: 101.1979 - mae: 7.7438 - val_loss: 111.4623 - val_mae: 7.8741\n"
     ]
    },
    {
     "name": "stdout",
     "output_type": "stream",
     "text": [
      "\n",
      "Epoch 00032: LearningRateScheduler reducing learning rate to 0.001.\n",
      "Epoch 32/100\n"
     ]
    },
    {
     "name": "stdout",
     "output_type": "stream",
     "text": [
      "\n",
      "Epoch 00032: val_mae did not improve from 7.81092\n",
      "789/789 - 86s - loss: 100.6366 - mae: 7.7599 - val_loss: 115.4167 - val_mae: 8.0404\n"
     ]
    },
    {
     "name": "stdout",
     "output_type": "stream",
     "text": [
      "\n",
      "Epoch 00033: LearningRateScheduler reducing learning rate to 0.001.\n",
      "Epoch 33/100\n"
     ]
    },
    {
     "name": "stdout",
     "output_type": "stream",
     "text": [
      "\n",
      "Epoch 00033: val_mae improved from 7.81092 to 7.79934, saving model to ./ckpts/boneagenet/best_val_80ep.h5\n"
     ]
    },
    {
     "name": "stdout",
     "output_type": "stream",
     "text": [
      "789/789 - 89s - loss: 100.7095 - mae: 7.7435 - val_loss: 109.7550 - val_mae: 7.7993\n"
     ]
    },
    {
     "name": "stdout",
     "output_type": "stream",
     "text": [
      "\n",
      "Epoch 00034: LearningRateScheduler reducing learning rate to 0.001.\n",
      "Epoch 34/100\n"
     ]
    },
    {
     "name": "stdout",
     "output_type": "stream",
     "text": [
      "\n",
      "Epoch 00034: val_mae improved from 7.79934 to 7.73103, saving model to ./ckpts/boneagenet/best_val_80ep.h5\n"
     ]
    },
    {
     "name": "stdout",
     "output_type": "stream",
     "text": [
      "789/789 - 89s - loss: 98.9940 - mae: 7.6501 - val_loss: 107.4660 - val_mae: 7.7310\n"
     ]
    },
    {
     "name": "stdout",
     "output_type": "stream",
     "text": [
      "\n",
      "Epoch 00035: LearningRateScheduler reducing learning rate to 0.001.\n",
      "Epoch 35/100\n"
     ]
    },
    {
     "name": "stdout",
     "output_type": "stream",
     "text": [
      "\n",
      "Epoch 00035: val_mae did not improve from 7.73103\n",
      "789/789 - 89s - loss: 100.8495 - mae: 7.7355 - val_loss: 121.7044 - val_mae: 8.3096\n"
     ]
    },
    {
     "name": "stdout",
     "output_type": "stream",
     "text": [
      "\n",
      "Epoch 00036: LearningRateScheduler reducing learning rate to 0.001.\n",
      "Epoch 36/100\n"
     ]
    },
    {
     "name": "stdout",
     "output_type": "stream",
     "text": [
      "\n",
      "Epoch 00036: val_mae did not improve from 7.73103\n",
      "789/789 - 89s - loss: 100.0187 - mae: 7.7179 - val_loss: 109.5884 - val_mae: 7.7826\n"
     ]
    },
    {
     "name": "stdout",
     "output_type": "stream",
     "text": [
      "\n",
      "Epoch 00037: LearningRateScheduler reducing learning rate to 0.001.\n",
      "Epoch 37/100\n"
     ]
    },
    {
     "name": "stdout",
     "output_type": "stream",
     "text": [
      "\n",
      "Epoch 00037: val_mae did not improve from 7.73103\n",
      "789/789 - 86s - loss: 100.5926 - mae: 7.6957 - val_loss: 109.8915 - val_mae: 7.8068\n"
     ]
    },
    {
     "name": "stdout",
     "output_type": "stream",
     "text": [
      "\n",
      "Epoch 00038: LearningRateScheduler reducing learning rate to 0.001.\n",
      "Epoch 38/100\n"
     ]
    },
    {
     "name": "stdout",
     "output_type": "stream",
     "text": [
      "\n",
      "Epoch 00038: val_mae did not improve from 7.73103\n",
      "789/789 - 86s - loss: 97.5540 - mae: 7.6445 - val_loss: 111.5017 - val_mae: 7.8621\n"
     ]
    },
    {
     "name": "stdout",
     "output_type": "stream",
     "text": [
      "\n",
      "Epoch 00039: LearningRateScheduler reducing learning rate to 0.001.\n",
      "Epoch 39/100\n"
     ]
    },
    {
     "name": "stdout",
     "output_type": "stream",
     "text": [
      "\n",
      "Epoch 00039: val_mae did not improve from 7.73103\n",
      "789/789 - 86s - loss: 100.3312 - mae: 7.7068 - val_loss: 122.5285 - val_mae: 8.3379\n"
     ]
    },
    {
     "name": "stdout",
     "output_type": "stream",
     "text": [
      "\n",
      "Epoch 00040: LearningRateScheduler reducing learning rate to 0.001.\n",
      "Epoch 40/100\n"
     ]
    },
    {
     "name": "stdout",
     "output_type": "stream",
     "text": [
      "\n",
      "Epoch 00040: val_mae did not improve from 7.73103\n",
      "789/789 - 86s - loss: 100.0117 - mae: 7.7239 - val_loss: 119.3250 - val_mae: 8.2130\n"
     ]
    },
    {
     "name": "stdout",
     "output_type": "stream",
     "text": [
      "\n",
      "Epoch 00041: LearningRateScheduler reducing learning rate to 0.001.\n",
      "Epoch 41/100\n"
     ]
    },
    {
     "name": "stdout",
     "output_type": "stream",
     "text": [
      "\n",
      "Epoch 00041: val_mae did not improve from 7.73103\n",
      "789/789 - 86s - loss: 100.9624 - mae: 7.7303 - val_loss: 108.4633 - val_mae: 7.7464\n"
     ]
    },
    {
     "name": "stdout",
     "output_type": "stream",
     "text": [
      "\n",
      "Epoch 00042: LearningRateScheduler reducing learning rate to 0.001.\n",
      "Epoch 42/100\n"
     ]
    },
    {
     "name": "stdout",
     "output_type": "stream",
     "text": [
      "\n",
      "Epoch 00042: val_mae did not improve from 7.73103\n",
      "789/789 - 86s - loss: 99.5291 - mae: 7.7043 - val_loss: 111.5620 - val_mae: 7.8810\n"
     ]
    },
    {
     "name": "stdout",
     "output_type": "stream",
     "text": [
      "\n",
      "Epoch 00043: LearningRateScheduler reducing learning rate to 0.001.\n",
      "Epoch 43/100\n"
     ]
    },
    {
     "name": "stdout",
     "output_type": "stream",
     "text": [
      "\n",
      "Epoch 00043: val_mae did not improve from 7.73103\n",
      "789/789 - 86s - loss: 98.2900 - mae: 7.6800 - val_loss: 111.9677 - val_mae: 7.8956\n"
     ]
    },
    {
     "name": "stdout",
     "output_type": "stream",
     "text": [
      "\n",
      "Epoch 00044: LearningRateScheduler reducing learning rate to 0.001.\n",
      "Epoch 44/100\n"
     ]
    },
    {
     "name": "stdout",
     "output_type": "stream",
     "text": [
      "\n",
      "Epoch 00044: val_mae improved from 7.73103 to 7.72993, saving model to ./ckpts/boneagenet/best_val_80ep.h5\n"
     ]
    },
    {
     "name": "stdout",
     "output_type": "stream",
     "text": [
      "789/789 - 89s - loss: 98.1387 - mae: 7.6501 - val_loss: 108.0824 - val_mae: 7.7299\n"
     ]
    },
    {
     "name": "stdout",
     "output_type": "stream",
     "text": [
      "\n",
      "Epoch 00045: LearningRateScheduler reducing learning rate to 0.001.\n",
      "Epoch 45/100\n"
     ]
    },
    {
     "name": "stdout",
     "output_type": "stream",
     "text": [
      "\n",
      "Epoch 00045: val_mae did not improve from 7.72993\n",
      "789/789 - 87s - loss: 99.4754 - mae: 7.6932 - val_loss: 111.0912 - val_mae: 7.8404\n"
     ]
    },
    {
     "name": "stdout",
     "output_type": "stream",
     "text": [
      "\n",
      "Epoch 00046: LearningRateScheduler reducing learning rate to 0.001.\n",
      "Epoch 46/100\n"
     ]
    },
    {
     "name": "stdout",
     "output_type": "stream",
     "text": [
      "\n",
      "Epoch 00046: val_mae did not improve from 7.72993\n",
      "789/789 - 86s - loss: 97.6503 - mae: 7.6336 - val_loss: 109.5211 - val_mae: 7.7625\n"
     ]
    },
    {
     "name": "stdout",
     "output_type": "stream",
     "text": [
      "\n",
      "Epoch 00047: LearningRateScheduler reducing learning rate to 0.001.\n",
      "Epoch 47/100\n"
     ]
    },
    {
     "name": "stdout",
     "output_type": "stream",
     "text": [
      "\n",
      "Epoch 00047: val_mae did not improve from 7.72993\n",
      "789/789 - 86s - loss: 99.7162 - mae: 7.7034 - val_loss: 109.2065 - val_mae: 7.7662\n"
     ]
    },
    {
     "name": "stdout",
     "output_type": "stream",
     "text": [
      "\n",
      "Epoch 00048: LearningRateScheduler reducing learning rate to 0.001.\n",
      "Epoch 48/100\n"
     ]
    },
    {
     "name": "stdout",
     "output_type": "stream",
     "text": [
      "\n",
      "Epoch 00048: val_mae improved from 7.72993 to 7.71825, saving model to ./ckpts/boneagenet/best_val_80ep.h5\n"
     ]
    },
    {
     "name": "stdout",
     "output_type": "stream",
     "text": [
      "789/789 - 89s - loss: 99.6819 - mae: 7.6809 - val_loss: 107.8280 - val_mae: 7.7183\n"
     ]
    },
    {
     "name": "stdout",
     "output_type": "stream",
     "text": [
      "\n",
      "Epoch 00049: LearningRateScheduler reducing learning rate to 0.001.\n",
      "Epoch 49/100\n"
     ]
    },
    {
     "name": "stdout",
     "output_type": "stream",
     "text": [
      "\n",
      "Epoch 00049: val_mae did not improve from 7.71825\n",
      "789/789 - 86s - loss: 99.3374 - mae: 7.6838 - val_loss: 111.3145 - val_mae: 7.8720\n"
     ]
    },
    {
     "name": "stdout",
     "output_type": "stream",
     "text": [
      "\n",
      "Epoch 00050: LearningRateScheduler reducing learning rate to 0.001.\n",
      "Epoch 50/100\n"
     ]
    },
    {
     "name": "stdout",
     "output_type": "stream",
     "text": [
      "\n",
      "Epoch 00050: val_mae did not improve from 7.71825\n",
      "789/789 - 86s - loss: 98.0408 - mae: 7.6560 - val_loss: 109.4933 - val_mae: 7.7860\n"
     ]
    },
    {
     "name": "stdout",
     "output_type": "stream",
     "text": [
      "\n",
      "Epoch 00051: LearningRateScheduler reducing learning rate to 0.001.\n",
      "Epoch 51/100\n"
     ]
    },
    {
     "name": "stdout",
     "output_type": "stream",
     "text": [
      "\n",
      "Epoch 00051: val_mae did not improve from 7.71825\n",
      "789/789 - 86s - loss: 99.7082 - mae: 7.6664 - val_loss: 108.4038 - val_mae: 7.7472\n"
     ]
    },
    {
     "name": "stdout",
     "output_type": "stream",
     "text": [
      "\n",
      "Epoch 00052: LearningRateScheduler reducing learning rate to 0.001.\n",
      "Epoch 52/100\n"
     ]
    },
    {
     "name": "stdout",
     "output_type": "stream",
     "text": [
      "\n",
      "Epoch 00052: val_mae did not improve from 7.71825\n",
      "789/789 - 86s - loss: 98.7496 - mae: 7.6650 - val_loss: 110.4639 - val_mae: 7.8158\n"
     ]
    },
    {
     "name": "stdout",
     "output_type": "stream",
     "text": [
      "\n",
      "Epoch 00053: LearningRateScheduler reducing learning rate to 0.001.\n",
      "Epoch 53/100\n"
     ]
    },
    {
     "name": "stdout",
     "output_type": "stream",
     "text": [
      "\n",
      "Epoch 00053: val_mae improved from 7.71825 to 7.69487, saving model to ./ckpts/boneagenet/best_val_80ep.h5\n"
     ]
    },
    {
     "name": "stdout",
     "output_type": "stream",
     "text": [
      "789/789 - 89s - loss: 97.3247 - mae: 7.6328 - val_loss: 106.9025 - val_mae: 7.6949\n"
     ]
    },
    {
     "name": "stdout",
     "output_type": "stream",
     "text": [
      "\n",
      "Epoch 00054: LearningRateScheduler reducing learning rate to 0.001.\n",
      "Epoch 54/100\n"
     ]
    },
    {
     "name": "stdout",
     "output_type": "stream",
     "text": [
      "\n",
      "Epoch 00054: val_mae did not improve from 7.69487\n",
      "789/789 - 86s - loss: 99.7847 - mae: 7.7000 - val_loss: 111.1031 - val_mae: 7.8452\n"
     ]
    },
    {
     "name": "stdout",
     "output_type": "stream",
     "text": [
      "\n",
      "Epoch 00055: LearningRateScheduler reducing learning rate to 0.001.\n",
      "Epoch 55/100\n"
     ]
    },
    {
     "name": "stdout",
     "output_type": "stream",
     "text": [
      "\n",
      "Epoch 00055: val_mae did not improve from 7.69487\n",
      "789/789 - 86s - loss: 97.6648 - mae: 7.6321 - val_loss: 114.6209 - val_mae: 8.0081\n"
     ]
    },
    {
     "name": "stdout",
     "output_type": "stream",
     "text": [
      "\n",
      "Epoch 00056: LearningRateScheduler reducing learning rate to 0.001.\n",
      "Epoch 56/100\n"
     ]
    },
    {
     "name": "stdout",
     "output_type": "stream",
     "text": [
      "\n",
      "Epoch 00056: val_mae did not improve from 7.69487\n",
      "789/789 - 86s - loss: 97.8832 - mae: 7.6073 - val_loss: 107.1579 - val_mae: 7.6962\n"
     ]
    },
    {
     "name": "stdout",
     "output_type": "stream",
     "text": [
      "\n",
      "Epoch 00057: LearningRateScheduler reducing learning rate to 0.001.\n",
      "Epoch 57/100\n"
     ]
    },
    {
     "name": "stdout",
     "output_type": "stream",
     "text": [
      "\n",
      "Epoch 00057: val_mae did not improve from 7.69487\n",
      "789/789 - 86s - loss: 99.2595 - mae: 7.6469 - val_loss: 108.3900 - val_mae: 7.7484\n"
     ]
    },
    {
     "name": "stdout",
     "output_type": "stream",
     "text": [
      "\n",
      "Epoch 00058: LearningRateScheduler reducing learning rate to 0.001.\n",
      "Epoch 58/100\n"
     ]
    },
    {
     "name": "stdout",
     "output_type": "stream",
     "text": [
      "\n",
      "Epoch 00058: val_mae did not improve from 7.69487\n",
      "789/789 - 86s - loss: 98.5213 - mae: 7.6435 - val_loss: 109.2554 - val_mae: 7.7957\n"
     ]
    },
    {
     "name": "stdout",
     "output_type": "stream",
     "text": [
      "\n",
      "Epoch 00059: LearningRateScheduler reducing learning rate to 0.001.\n",
      "Epoch 59/100\n"
     ]
    },
    {
     "name": "stdout",
     "output_type": "stream",
     "text": [
      "\n",
      "Epoch 00059: val_mae did not improve from 7.69487\n",
      "789/789 - 86s - loss: 97.0070 - mae: 7.5988 - val_loss: 108.7259 - val_mae: 7.7534\n"
     ]
    },
    {
     "name": "stdout",
     "output_type": "stream",
     "text": [
      "\n",
      "Epoch 00060: LearningRateScheduler reducing learning rate to 0.001.\n",
      "Epoch 60/100\n"
     ]
    },
    {
     "name": "stdout",
     "output_type": "stream",
     "text": [
      "\n",
      "Epoch 00060: val_mae did not improve from 7.69487\n",
      "789/789 - 86s - loss: 97.4060 - mae: 7.6096 - val_loss: 107.6126 - val_mae: 7.7447\n"
     ]
    },
    {
     "name": "stdout",
     "output_type": "stream",
     "text": [
      "\n",
      "Epoch 00061: LearningRateScheduler reducing learning rate to 0.0001.\n",
      "Epoch 61/100\n"
     ]
    },
    {
     "name": "stdout",
     "output_type": "stream",
     "text": [
      "\n",
      "Epoch 00061: val_mae did not improve from 7.69487\n",
      "789/789 - 89s - loss: 96.1062 - mae: 7.5263 - val_loss: 108.8057 - val_mae: 7.7647\n"
     ]
    },
    {
     "name": "stdout",
     "output_type": "stream",
     "text": [
      "\n",
      "Epoch 00062: LearningRateScheduler reducing learning rate to 0.0001.\n",
      "Epoch 62/100\n"
     ]
    },
    {
     "name": "stdout",
     "output_type": "stream",
     "text": [
      "\n",
      "Epoch 00062: val_mae did not improve from 7.69487\n",
      "789/789 - 86s - loss: 96.4734 - mae: 7.5607 - val_loss: 108.9655 - val_mae: 7.7736\n"
     ]
    },
    {
     "name": "stdout",
     "output_type": "stream",
     "text": [
      "\n",
      "Epoch 00063: LearningRateScheduler reducing learning rate to 0.0001.\n",
      "Epoch 63/100\n"
     ]
    },
    {
     "name": "stdout",
     "output_type": "stream",
     "text": [
      "\n",
      "Epoch 00063: val_mae did not improve from 7.69487\n",
      "789/789 - 86s - loss: 96.8585 - mae: 7.5815 - val_loss: 108.1136 - val_mae: 7.7395\n"
     ]
    },
    {
     "name": "stdout",
     "output_type": "stream",
     "text": [
      "\n",
      "Epoch 00064: LearningRateScheduler reducing learning rate to 0.0001.\n",
      "Epoch 64/100\n"
     ]
    },
    {
     "name": "stdout",
     "output_type": "stream",
     "text": [
      "\n",
      "Epoch 00064: val_mae did not improve from 7.69487\n",
      "789/789 - 86s - loss: 96.9131 - mae: 7.5483 - val_loss: 109.5552 - val_mae: 7.7955\n"
     ]
    },
    {
     "name": "stdout",
     "output_type": "stream",
     "text": [
      "\n",
      "Epoch 00065: LearningRateScheduler reducing learning rate to 0.0001.\n",
      "Epoch 65/100\n"
     ]
    },
    {
     "name": "stdout",
     "output_type": "stream",
     "text": [
      "\n",
      "Epoch 00065: val_mae did not improve from 7.69487\n",
      "789/789 - 86s - loss: 96.5170 - mae: 7.5191 - val_loss: 109.9333 - val_mae: 7.8073\n"
     ]
    },
    {
     "name": "stdout",
     "output_type": "stream",
     "text": [
      "\n",
      "Epoch 00066: LearningRateScheduler reducing learning rate to 0.0001.\n",
      "Epoch 66/100\n"
     ]
    },
    {
     "name": "stdout",
     "output_type": "stream",
     "text": [
      "\n",
      "Epoch 00066: val_mae did not improve from 7.69487\n",
      "789/789 - 86s - loss: 97.3912 - mae: 7.6053 - val_loss: 109.1387 - val_mae: 7.7779\n"
     ]
    },
    {
     "name": "stdout",
     "output_type": "stream",
     "text": [
      "\n",
      "Epoch 00067: LearningRateScheduler reducing learning rate to 0.0001.\n",
      "Epoch 67/100\n"
     ]
    },
    {
     "name": "stdout",
     "output_type": "stream",
     "text": [
      "\n",
      "Epoch 00067: val_mae did not improve from 7.69487\n",
      "789/789 - 86s - loss: 98.2355 - mae: 7.5998 - val_loss: 108.1756 - val_mae: 7.7384\n"
     ]
    },
    {
     "name": "stdout",
     "output_type": "stream",
     "text": [
      "\n",
      "Epoch 00068: LearningRateScheduler reducing learning rate to 0.0001.\n",
      "Epoch 68/100\n"
     ]
    },
    {
     "name": "stdout",
     "output_type": "stream",
     "text": [
      "\n",
      "Epoch 00068: val_mae did not improve from 7.69487\n",
      "789/789 - 86s - loss: 98.7851 - mae: 7.6526 - val_loss: 109.6641 - val_mae: 7.7989\n"
     ]
    },
    {
     "name": "stdout",
     "output_type": "stream",
     "text": [
      "\n",
      "Epoch 00069: LearningRateScheduler reducing learning rate to 0.0001.\n",
      "Epoch 69/100\n"
     ]
    },
    {
     "name": "stdout",
     "output_type": "stream",
     "text": [
      "\n",
      "Epoch 00069: val_mae did not improve from 7.69487\n",
      "789/789 - 86s - loss: 97.7985 - mae: 7.5854 - val_loss: 110.0464 - val_mae: 7.8134\n"
     ]
    },
    {
     "name": "stdout",
     "output_type": "stream",
     "text": [
      "\n",
      "Epoch 00070: LearningRateScheduler reducing learning rate to 0.0001.\n",
      "Epoch 70/100\n"
     ]
    },
    {
     "name": "stdout",
     "output_type": "stream",
     "text": [
      "\n",
      "Epoch 00070: val_mae did not improve from 7.69487\n",
      "789/789 - 86s - loss: 96.2407 - mae: 7.5832 - val_loss: 109.0415 - val_mae: 7.7738\n"
     ]
    },
    {
     "name": "stdout",
     "output_type": "stream",
     "text": [
      "\n",
      "Epoch 00071: LearningRateScheduler reducing learning rate to 0.0001.\n",
      "Epoch 71/100\n"
     ]
    },
    {
     "name": "stdout",
     "output_type": "stream",
     "text": [
      "\n",
      "Epoch 00071: val_mae did not improve from 7.69487\n",
      "789/789 - 86s - loss: 95.7898 - mae: 7.5224 - val_loss: 109.8931 - val_mae: 7.8124\n"
     ]
    },
    {
     "name": "stdout",
     "output_type": "stream",
     "text": [
      "\n",
      "Epoch 00072: LearningRateScheduler reducing learning rate to 0.0001.\n",
      "Epoch 72/100\n"
     ]
    },
    {
     "name": "stdout",
     "output_type": "stream",
     "text": [
      "\n",
      "Epoch 00072: val_mae did not improve from 7.69487\n",
      "789/789 - 86s - loss: 97.1179 - mae: 7.5959 - val_loss: 107.2788 - val_mae: 7.7116\n"
     ]
    },
    {
     "name": "stdout",
     "output_type": "stream",
     "text": [
      "\n",
      "Epoch 00073: LearningRateScheduler reducing learning rate to 0.0001.\n",
      "Epoch 73/100\n"
     ]
    },
    {
     "name": "stdout",
     "output_type": "stream",
     "text": [
      "\n",
      "Epoch 00073: val_mae did not improve from 7.69487\n",
      "789/789 - 86s - loss: 96.8293 - mae: 7.5624 - val_loss: 108.4574 - val_mae: 7.7529\n"
     ]
    },
    {
     "name": "stdout",
     "output_type": "stream",
     "text": [
      "\n",
      "Epoch 00074: LearningRateScheduler reducing learning rate to 0.0001.\n",
      "Epoch 74/100\n"
     ]
    },
    {
     "name": "stdout",
     "output_type": "stream",
     "text": [
      "\n",
      "Epoch 00074: val_mae did not improve from 7.69487\n",
      "789/789 - 86s - loss: 96.3918 - mae: 7.5428 - val_loss: 108.1978 - val_mae: 7.7417\n"
     ]
    },
    {
     "name": "stdout",
     "output_type": "stream",
     "text": [
      "\n",
      "Epoch 00075: LearningRateScheduler reducing learning rate to 0.0001.\n",
      "Epoch 75/100\n"
     ]
    },
    {
     "name": "stdout",
     "output_type": "stream",
     "text": [
      "\n",
      "Epoch 00075: val_mae did not improve from 7.69487\n",
      "789/789 - 86s - loss: 96.5597 - mae: 7.5954 - val_loss: 108.9989 - val_mae: 7.7746\n"
     ]
    },
    {
     "name": "stdout",
     "output_type": "stream",
     "text": [
      "\n",
      "Epoch 00076: LearningRateScheduler reducing learning rate to 0.0001.\n",
      "Epoch 76/100\n"
     ]
    },
    {
     "name": "stdout",
     "output_type": "stream",
     "text": [
      "\n",
      "Epoch 00076: val_mae did not improve from 7.69487\n",
      "789/789 - 86s - loss: 96.7070 - mae: 7.5626 - val_loss: 108.9782 - val_mae: 7.7727\n"
     ]
    },
    {
     "name": "stdout",
     "output_type": "stream",
     "text": [
      "\n",
      "Epoch 00077: LearningRateScheduler reducing learning rate to 0.0001.\n",
      "Epoch 77/100\n"
     ]
    },
    {
     "name": "stdout",
     "output_type": "stream",
     "text": [
      "\n",
      "Epoch 00077: val_mae did not improve from 7.69487\n",
      "789/789 - 86s - loss: 96.9538 - mae: 7.5229 - val_loss: 108.8348 - val_mae: 7.7661\n"
     ]
    },
    {
     "name": "stdout",
     "output_type": "stream",
     "text": [
      "\n",
      "Epoch 00078: LearningRateScheduler reducing learning rate to 0.0001.\n",
      "Epoch 78/100\n"
     ]
    },
    {
     "name": "stdout",
     "output_type": "stream",
     "text": [
      "\n",
      "Epoch 00078: val_mae did not improve from 7.69487\n",
      "789/789 - 86s - loss: 96.6450 - mae: 7.5777 - val_loss: 109.1945 - val_mae: 7.7845\n"
     ]
    },
    {
     "name": "stdout",
     "output_type": "stream",
     "text": [
      "\n",
      "Epoch 00079: LearningRateScheduler reducing learning rate to 0.0001.\n",
      "Epoch 79/100\n"
     ]
    },
    {
     "name": "stdout",
     "output_type": "stream",
     "text": [
      "\n",
      "Epoch 00079: val_mae did not improve from 7.69487\n",
      "789/789 - 86s - loss: 95.6798 - mae: 7.5025 - val_loss: 107.0688 - val_mae: 7.7022\n"
     ]
    },
    {
     "name": "stdout",
     "output_type": "stream",
     "text": [
      "\n",
      "Epoch 00080: LearningRateScheduler reducing learning rate to 0.0001.\n",
      "Epoch 80/100\n"
     ]
    },
    {
     "name": "stdout",
     "output_type": "stream",
     "text": [
      "\n",
      "Epoch 00080: val_mae did not improve from 7.69487\n",
      "789/789 - 86s - loss: 96.9080 - mae: 7.5808 - val_loss: 108.7670 - val_mae: 7.7664\n"
     ]
    },
    {
     "name": "stdout",
     "output_type": "stream",
     "text": [
      "\n",
      "Epoch 00081: LearningRateScheduler reducing learning rate to 1e-05.\n",
      "Epoch 81/100\n"
     ]
    },
    {
     "name": "stdout",
     "output_type": "stream",
     "text": [
      "\n",
      "Epoch 00081: val_mae did not improve from 7.69487\n",
      "789/789 - 86s - loss: 96.4560 - mae: 7.5315 - val_loss: 107.9928 - val_mae: 7.7364\n"
     ]
    },
    {
     "name": "stdout",
     "output_type": "stream",
     "text": [
      "\n",
      "Epoch 00082: LearningRateScheduler reducing learning rate to 1e-05.\n",
      "Epoch 82/100\n"
     ]
    },
    {
     "name": "stdout",
     "output_type": "stream",
     "text": [
      "\n",
      "Epoch 00082: val_mae did not improve from 7.69487\n",
      "789/789 - 86s - loss: 96.4584 - mae: 7.5385 - val_loss: 108.2373 - val_mae: 7.7459\n"
     ]
    },
    {
     "name": "stdout",
     "output_type": "stream",
     "text": [
      "\n",
      "Epoch 00083: LearningRateScheduler reducing learning rate to 1e-05.\n",
      "Epoch 83/100\n"
     ]
    },
    {
     "name": "stdout",
     "output_type": "stream",
     "text": [
      "\n",
      "Epoch 00083: val_mae did not improve from 7.69487\n",
      "789/789 - 86s - loss: 96.5849 - mae: 7.5431 - val_loss: 107.9218 - val_mae: 7.7344\n"
     ]
    },
    {
     "name": "stdout",
     "output_type": "stream",
     "text": [
      "\n",
      "Epoch 00084: LearningRateScheduler reducing learning rate to 1e-05.\n",
      "Epoch 84/100\n"
     ]
    },
    {
     "name": "stdout",
     "output_type": "stream",
     "text": [
      "\n",
      "Epoch 00084: val_mae did not improve from 7.69487\n",
      "789/789 - 86s - loss: 96.3127 - mae: 7.5509 - val_loss: 107.9797 - val_mae: 7.7367\n"
     ]
    },
    {
     "name": "stdout",
     "output_type": "stream",
     "text": [
      "\n",
      "Epoch 00085: LearningRateScheduler reducing learning rate to 1e-05.\n",
      "Epoch 85/100\n"
     ]
    },
    {
     "name": "stdout",
     "output_type": "stream",
     "text": [
      "\n",
      "Epoch 00085: val_mae did not improve from 7.69487\n",
      "789/789 - 86s - loss: 96.3979 - mae: 7.5482 - val_loss: 108.1817 - val_mae: 7.7449\n"
     ]
    },
    {
     "name": "stdout",
     "output_type": "stream",
     "text": [
      "\n",
      "Epoch 00086: LearningRateScheduler reducing learning rate to 1e-05.\n",
      "Epoch 86/100\n"
     ]
    },
    {
     "name": "stdout",
     "output_type": "stream",
     "text": [
      "\n",
      "Epoch 00086: val_mae did not improve from 7.69487\n",
      "789/789 - 86s - loss: 96.1547 - mae: 7.5479 - val_loss: 108.0081 - val_mae: 7.7384\n"
     ]
    },
    {
     "name": "stdout",
     "output_type": "stream",
     "text": [
      "\n",
      "Epoch 00087: LearningRateScheduler reducing learning rate to 1e-05.\n",
      "Epoch 87/100\n"
     ]
    },
    {
     "name": "stdout",
     "output_type": "stream",
     "text": [
      "\n",
      "Epoch 00087: val_mae did not improve from 7.69487\n",
      "789/789 - 86s - loss: 97.4399 - mae: 7.5806 - val_loss: 108.1508 - val_mae: 7.7439\n"
     ]
    },
    {
     "name": "stdout",
     "output_type": "stream",
     "text": [
      "\n",
      "Epoch 00088: LearningRateScheduler reducing learning rate to 1e-05.\n",
      "Epoch 88/100\n"
     ]
    },
    {
     "name": "stdout",
     "output_type": "stream",
     "text": [
      "\n",
      "Epoch 00088: val_mae did not improve from 7.69487\n",
      "789/789 - 86s - loss: 96.2833 - mae: 7.5350 - val_loss: 108.3767 - val_mae: 7.7529\n"
     ]
    },
    {
     "name": "stdout",
     "output_type": "stream",
     "text": [
      "\n",
      "Epoch 00089: LearningRateScheduler reducing learning rate to 1e-05.\n",
      "Epoch 89/100\n"
     ]
    },
    {
     "name": "stdout",
     "output_type": "stream",
     "text": [
      "\n",
      "Epoch 00089: val_mae did not improve from 7.69487\n",
      "789/789 - 86s - loss: 97.9180 - mae: 7.6183 - val_loss: 108.0792 - val_mae: 7.7409\n"
     ]
    },
    {
     "name": "stdout",
     "output_type": "stream",
     "text": [
      "\n",
      "Epoch 00090: LearningRateScheduler reducing learning rate to 1e-05.\n",
      "Epoch 90/100\n"
     ]
    },
    {
     "name": "stdout",
     "output_type": "stream",
     "text": [
      "\n",
      "Epoch 00090: val_mae did not improve from 7.69487\n",
      "789/789 - 86s - loss: 97.3187 - mae: 7.5661 - val_loss: 108.0156 - val_mae: 7.7383\n"
     ]
    },
    {
     "name": "stdout",
     "output_type": "stream",
     "text": [
      "\n",
      "Epoch 00091: LearningRateScheduler reducing learning rate to 1e-05.\n",
      "Epoch 91/100\n"
     ]
    },
    {
     "name": "stdout",
     "output_type": "stream",
     "text": [
      "\n",
      "Epoch 00091: val_mae did not improve from 7.69487\n",
      "789/789 - 86s - loss: 96.2631 - mae: 7.5175 - val_loss: 108.0844 - val_mae: 7.7405\n"
     ]
    },
    {
     "name": "stdout",
     "output_type": "stream",
     "text": [
      "\n",
      "Epoch 00092: LearningRateScheduler reducing learning rate to 1e-05.\n",
      "Epoch 92/100\n"
     ]
    },
    {
     "name": "stdout",
     "output_type": "stream",
     "text": [
      "\n",
      "Epoch 00092: val_mae did not improve from 7.69487\n",
      "789/789 - 86s - loss: 96.9862 - mae: 7.5352 - val_loss: 107.8721 - val_mae: 7.7320\n"
     ]
    },
    {
     "name": "stdout",
     "output_type": "stream",
     "text": [
      "\n",
      "Epoch 00093: LearningRateScheduler reducing learning rate to 1e-05.\n",
      "Epoch 93/100\n"
     ]
    },
    {
     "name": "stdout",
     "output_type": "stream",
     "text": [
      "\n",
      "Epoch 00093: val_mae did not improve from 7.69487\n",
      "789/789 - 86s - loss: 97.1869 - mae: 7.5582 - val_loss: 108.4714 - val_mae: 7.7569\n"
     ]
    },
    {
     "name": "stdout",
     "output_type": "stream",
     "text": [
      "\n",
      "Epoch 00094: LearningRateScheduler reducing learning rate to 1e-05.\n",
      "Epoch 94/100\n"
     ]
    },
    {
     "name": "stdout",
     "output_type": "stream",
     "text": [
      "\n",
      "Epoch 00094: val_mae did not improve from 7.69487\n",
      "789/789 - 86s - loss: 95.7847 - mae: 7.5207 - val_loss: 108.1639 - val_mae: 7.7437\n"
     ]
    },
    {
     "name": "stdout",
     "output_type": "stream",
     "text": [
      "\n",
      "Epoch 00095: LearningRateScheduler reducing learning rate to 1e-05.\n",
      "Epoch 95/100\n"
     ]
    },
    {
     "name": "stdout",
     "output_type": "stream",
     "text": [
      "\n",
      "Epoch 00095: val_mae did not improve from 7.69487\n",
      "789/789 - 87s - loss: 96.6298 - mae: 7.5400 - val_loss: 107.9493 - val_mae: 7.7354\n"
     ]
    },
    {
     "name": "stdout",
     "output_type": "stream",
     "text": [
      "\n",
      "Epoch 00096: LearningRateScheduler reducing learning rate to 1e-05.\n",
      "Epoch 96/100\n"
     ]
    },
    {
     "name": "stdout",
     "output_type": "stream",
     "text": [
      "\n",
      "Epoch 00096: val_mae did not improve from 7.69487\n",
      "789/789 - 86s - loss: 96.3672 - mae: 7.5562 - val_loss: 107.8790 - val_mae: 7.7326\n"
     ]
    },
    {
     "name": "stdout",
     "output_type": "stream",
     "text": [
      "\n",
      "Epoch 00097: LearningRateScheduler reducing learning rate to 1e-05.\n",
      "Epoch 97/100\n"
     ]
    },
    {
     "name": "stdout",
     "output_type": "stream",
     "text": [
      "\n",
      "Epoch 00097: val_mae did not improve from 7.69487\n",
      "789/789 - 86s - loss: 96.1626 - mae: 7.5382 - val_loss: 108.2593 - val_mae: 7.7484\n"
     ]
    },
    {
     "name": "stdout",
     "output_type": "stream",
     "text": [
      "\n",
      "Epoch 00098: LearningRateScheduler reducing learning rate to 1e-05.\n",
      "Epoch 98/100\n"
     ]
    },
    {
     "name": "stdout",
     "output_type": "stream",
     "text": [
      "\n",
      "Epoch 00098: val_mae did not improve from 7.69487\n",
      "789/789 - 86s - loss: 96.2203 - mae: 7.5261 - val_loss: 108.1394 - val_mae: 7.7434\n"
     ]
    },
    {
     "name": "stdout",
     "output_type": "stream",
     "text": [
      "\n",
      "Epoch 00099: LearningRateScheduler reducing learning rate to 1e-05.\n",
      "Epoch 99/100\n"
     ]
    },
    {
     "name": "stdout",
     "output_type": "stream",
     "text": [
      "\n",
      "Epoch 00099: val_mae did not improve from 7.69487\n",
      "789/789 - 86s - loss: 96.6881 - mae: 7.5646 - val_loss: 108.5941 - val_mae: 7.7619\n"
     ]
    },
    {
     "name": "stdout",
     "output_type": "stream",
     "text": [
      "\n",
      "Epoch 00100: LearningRateScheduler reducing learning rate to 1e-05.\n",
      "Epoch 100/100\n"
     ]
    },
    {
     "name": "stdout",
     "output_type": "stream",
     "text": [
      "\n",
      "Epoch 00100: val_mae did not improve from 7.69487\n",
      "789/789 - 86s - loss: 97.7302 - mae: 7.5726 - val_loss: 107.7498 - val_mae: 7.7281\n"
     ]
    },
    {
     "data": {
      "text/plain": [
       "<tensorflow.python.keras.callbacks.History at 0x7fcd9be4b050>"
      ]
     },
     "execution_count": 10,
     "metadata": {},
     "output_type": "execute_result"
    }
   ],
   "source": [
    "bonagenet = BoneAgeNet()\n",
    "ckpt_callback = tf.keras.callbacks.ModelCheckpoint(\n",
    "                filepath='./ckpts/boneagenet/best_val_80ep.h5', monitor='val_mae', verbose=1, save_best_only=True,\n",
    "                save_weights_only=True, mode='min')\n",
    "\n",
    "def scheduler(epoch, lr):\n",
    "    if epoch < 20:\n",
    "        return lr\n",
    "    elif epoch < 60:\n",
    "        return 1e-3\n",
    "    elif epoch < 80:\n",
    "        return 1e-4\n",
    "    else:\n",
    "        return 1e-5\n",
    "\n",
    "lr_scheduler_callback = tf.keras.callbacks.LearningRateScheduler(scheduler, verbose=1)\n",
    "\n",
    "optimizer = tf.keras.optimizers.Adam(learning_rate=1e-2)\n",
    "metric = tf.keras.metrics.MeanAbsoluteError()\n",
    "bonagenet.compile(optimizer=optimizer, loss='mse', metrics=['mae'])\n",
    "\n",
    "bonagenet.fit(train_ds, validation_data=val_ds,callbacks = [ckpt_callback,lr_scheduler_callback],\n",
    "                    epochs=100, verbose=2)"
   ]
  },
  {
   "cell_type": "markdown",
   "id": "hearing-forestry",
   "metadata": {
    "papermill": {
     "duration": 0.046841,
     "end_time": "2021-04-09T15:09:50.829011",
     "exception": false,
     "start_time": "2021-04-09T15:09:50.782170",
     "status": "completed"
    },
    "tags": []
   },
   "source": [
    "### test"
   ]
  },
  {
   "cell_type": "code",
   "execution_count": 11,
   "id": "suspended-scottish",
   "metadata": {
    "execution": {
     "iopub.execute_input": "2021-04-09T15:09:50.931618Z",
     "iopub.status.busy": "2021-04-09T15:09:50.931191Z",
     "iopub.status.idle": "2021-04-09T15:10:00.694737Z",
     "shell.execute_reply": "2021-04-09T15:10:00.694318Z"
    },
    "papermill": {
     "duration": 9.819586,
     "end_time": "2021-04-09T15:10:00.694863",
     "exception": false,
     "start_time": "2021-04-09T15:09:50.875277",
     "status": "completed"
    },
    "tags": []
   },
   "outputs": [
    {
     "name": "stdout",
     "output_type": "stream",
     "text": [
      "(200, 300, 300, 1)\n",
      "(200,)\n",
      "(200,)\n"
     ]
    }
   ],
   "source": [
    "test_directory = '../hdadataset2021/Bone Age Datasets/Bone Age Test Set/Test Set Images/'\n",
    "\n",
    "df_test = pd.read_csv('./test.csv')\n",
    "\n",
    "ids = df_test['id'].values.astype(str)\n",
    "labels = (df_test['Sex'].values == 'M').astype(float)\n",
    "\n",
    "# replace ',' with '.' and convert to float\n",
    "ages_str = df_test['boneage'].values\n",
    "ages = np.empty_like(ages_str)\n",
    "for i, item in enumerate(ages_str):\n",
    "    replaced = item.replace(',','.')\n",
    "    replaced_float = float(replaced)\n",
    "    ages[i] = replaced_float\n",
    "ages = ages.astype(float)\n",
    "\n",
    "test_ds = tf.data.Dataset.from_tensor_slices((ids, labels, ages))\n",
    "\n",
    "def read_test_image(image_file, label, age):\n",
    "    image = tf.io.read_file(test_directory + image_file + '.png')\n",
    "    image = tf.io.decode_png(image, channels=1)\n",
    "    return image, [label], [age] #lists are necessary for training the model (otherwise dims are unknown)\n",
    "\n",
    "test_ds = test_ds.map(read_test_image).map(lambda image,label,age: (normalization_layer(resize_layer(image)), label, age)).cache()\n",
    "test_ds = test_ds.prefetch(buffer_size=AUTOTUNE)\n",
    "\n",
    "test_iterator = test_ds.as_numpy_iterator()\n",
    "N = 200 #number of samples\n",
    "test_images = np.empty(shape=(N, IMG_SIZE[0], IMG_SIZE[1], 1), dtype=np.float32)\n",
    "test_labels = np.empty(shape=(N,), dtype=np.float32)\n",
    "test_ages = np.empty(shape=(N,), dtype=np.float32)\n",
    "for i, item in enumerate(test_iterator):\n",
    "    test_images[i] = item[0]\n",
    "    test_labels[i] = item[1]\n",
    "    test_ages[i] = item[2]\n",
    "    \n",
    "print(test_images.shape)\n",
    "print(test_labels.shape)\n",
    "print(test_ages.shape)"
   ]
  },
  {
   "cell_type": "code",
   "execution_count": 12,
   "id": "mobile-pillow",
   "metadata": {
    "execution": {
     "iopub.execute_input": "2021-04-09T15:10:00.812188Z",
     "iopub.status.busy": "2021-04-09T15:10:00.795617Z",
     "iopub.status.idle": "2021-04-09T15:10:01.267903Z",
     "shell.execute_reply": "2021-04-09T15:10:01.267464Z"
    },
    "papermill": {
     "duration": 0.525697,
     "end_time": "2021-04-09T15:10:01.268008",
     "exception": false,
     "start_time": "2021-04-09T15:10:00.742311",
     "status": "completed"
    },
    "tags": []
   },
   "outputs": [],
   "source": [
    "bonagenet.load_weights('./ckpts/boneagenet/best_val_80ep.h5')"
   ]
  },
  {
   "cell_type": "code",
   "execution_count": 13,
   "id": "welcome-success",
   "metadata": {
    "execution": {
     "iopub.execute_input": "2021-04-09T15:10:01.366175Z",
     "iopub.status.busy": "2021-04-09T15:10:01.365697Z",
     "iopub.status.idle": "2021-04-09T15:10:05.377391Z",
     "shell.execute_reply": "2021-04-09T15:10:05.377743Z"
    },
    "papermill": {
     "duration": 4.061839,
     "end_time": "2021-04-09T15:10:05.377925",
     "exception": false,
     "start_time": "2021-04-09T15:10:01.316086",
     "status": "completed"
    },
    "tags": []
   },
   "outputs": [],
   "source": [
    "bonagenet_pred = bonagenet.predict((test_images, test_labels))"
   ]
  },
  {
   "cell_type": "code",
   "execution_count": 14,
   "id": "domestic-fiber",
   "metadata": {
    "execution": {
     "iopub.execute_input": "2021-04-09T15:10:05.474636Z",
     "iopub.status.busy": "2021-04-09T15:10:05.474124Z",
     "iopub.status.idle": "2021-04-09T15:10:05.477160Z",
     "shell.execute_reply": "2021-04-09T15:10:05.477508Z"
    },
    "papermill": {
     "duration": 0.053251,
     "end_time": "2021-04-09T15:10:05.477629",
     "exception": false,
     "start_time": "2021-04-09T15:10:05.424378",
     "status": "completed"
    },
    "tags": []
   },
   "outputs": [
    {
     "data": {
      "text/plain": [
       "6.0271935"
      ]
     },
     "execution_count": 14,
     "metadata": {},
     "output_type": "execute_result"
    }
   ],
   "source": [
    "np.mean(np.abs(bonagenet_pred.squeeze() - test_ages.squeeze()))"
   ]
  },
  {
   "cell_type": "code",
   "execution_count": null,
   "id": "indoor-violation",
   "metadata": {
    "papermill": {
     "duration": 0.046511,
     "end_time": "2021-04-09T15:10:05.570911",
     "exception": false,
     "start_time": "2021-04-09T15:10:05.524400",
     "status": "completed"
    },
    "tags": []
   },
   "outputs": [],
   "source": []
  }
 ],
 "metadata": {
  "environment": {
   "name": "tf2-gpu.2-3.m65",
   "type": "gcloud",
   "uri": "gcr.io/deeplearning-platform-release/tf2-gpu.2-3:m65"
  },
  "kernelspec": {
   "display_name": "Python 3",
   "language": "python",
   "name": "python3"
  },
  "language_info": {
   "codemirror_mode": {
    "name": "ipython",
    "version": 3
   },
   "file_extension": ".py",
   "mimetype": "text/x-python",
   "name": "python",
   "nbconvert_exporter": "python",
   "pygments_lexer": "ipython3",
   "version": "3.7.10"
  },
  "papermill": {
   "default_parameters": {},
   "duration": 8745.547925,
   "end_time": "2021-04-09T15:10:08.452537",
   "environment_variables": {},
   "exception": null,
   "input_path": "inceptionV3_2_large-test-final.ipynb",
   "output_path": "inceptionV3_2_large-test-final.ipynb",
   "parameters": {},
   "start_time": "2021-04-09T12:44:22.904612",
   "version": "2.3.2"
  }
 },
 "nbformat": 4,
 "nbformat_minor": 5
}